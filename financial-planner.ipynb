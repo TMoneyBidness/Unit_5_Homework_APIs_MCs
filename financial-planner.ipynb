{
 "cells": [
  {
   "cell_type": "markdown",
   "metadata": {},
   "source": [
    "# Unit 5 - Financial Planning"
   ]
  },
  {
   "cell_type": "code",
   "execution_count": 51,
   "metadata": {},
   "outputs": [],
   "source": [
    "# Initial imports\n",
    "import os\n",
    "import requests\n",
    "import pandas as pd\n",
    "import numpy as np\n",
    "import json\n",
    "from dotenv import load_dotenv\n",
    "import alpaca_trade_api as tradeapi\n",
    "import matplotlib.pyplot as plt\n",
    "from MCForecastTools import MCSimulation\n",
    "#from coinbase.wallet.client import Client\n",
    "\n",
    "\n",
    "%matplotlib inline"
   ]
  },
  {
   "cell_type": "code",
   "execution_count": 52,
   "metadata": {},
   "outputs": [
    {
     "data": {
      "text/plain": [
       "True"
      ]
     },
     "execution_count": 52,
     "metadata": {},
     "output_type": "execute_result"
    }
   ],
   "source": [
    "# Load .env enviroment variables\n",
    "load_dotenv()"
   ]
  },
  {
   "cell_type": "markdown",
   "metadata": {},
   "source": [
    "## Part 1 - Personal Finance Planner"
   ]
  },
  {
   "cell_type": "markdown",
   "metadata": {},
   "source": [
    "### Collect Crypto Prices Using the `requests` Library"
   ]
  },
  {
   "cell_type": "code",
   "execution_count": 53,
   "metadata": {},
   "outputs": [],
   "source": [
    "# Set current amount of crypto assets\n",
    "my_btc = 1.2\n",
    "my_eth = 5.3\n"
   ]
  },
  {
   "cell_type": "code",
   "execution_count": 54,
   "metadata": {},
   "outputs": [],
   "source": [
    "# Crypto API URLs,\n",
    "btc_url = \"https://api.alternative.me/v2/ticker/Bitcoin/?convert=CAD\"\n",
    "eth_url = \"https://api.alternative.me/v2/ticker/Ethereum/?convert=CAD\"\n",
    "\n",
    "#FYI, for future use by me (Coinbase API code)\n",
    "# coinbase_api_key = os.getenv(\"COINBASE_API_KEY\")\n",
    "# coinbase_secret_key = os.getenv(\"COINBASE_SECRET_KEY\")\n",
    "# client = Client(coinbase_api_key, coinbase_secret_key)\n",
    "#price = client.get_spot_price(currency_pair = 'BTC-USD')"
   ]
  },
  {
   "cell_type": "code",
   "execution_count": 55,
   "metadata": {},
   "outputs": [
    {
     "data": {
      "text/plain": [
       "{'data': {'1': {'id': 1,\n",
       "   'name': 'Bitcoin',\n",
       "   'symbol': 'BTC',\n",
       "   'website_slug': 'bitcoin',\n",
       "   'rank': 1,\n",
       "   'circulating_supply': 18898250,\n",
       "   'total_supply': 18898250,\n",
       "   'max_supply': 21000000,\n",
       "   'quotes': {'USD': {'price': 48634.0,\n",
       "     'volume_24h': 26382750784,\n",
       "     'market_cap': 918853589011,\n",
       "     'percentage_change_1h': -0.63931423789452,\n",
       "     'percentage_change_24h': 0.716350128260242,\n",
       "     'percentage_change_7d': -9.57895158589697,\n",
       "     'percent_change_1h': -0.63931423789452,\n",
       "     'percent_change_24h': 0.716350128260242,\n",
       "     'percent_change_7d': -9.57895158589697},\n",
       "    'CAD': {'price': 61896.4918,\n",
       "     'volume_24h': 33577326922.7968,\n",
       "     'market_cap': 1169424962734.3,\n",
       "     'percent_change_1h': -0.63931423789452,\n",
       "     'percent_change_24h': 0.716350128260242,\n",
       "     'percent_change_7d': -9.57895158589697}},\n",
       "   'last_updated': 1639247542}},\n",
       " 'metadata': {'timestamp': 1639247542,\n",
       "  'num_cryptocurrencies': 3105,\n",
       "  'error': None}}"
      ]
     },
     "execution_count": 55,
     "metadata": {},
     "output_type": "execute_result"
    }
   ],
   "source": [
    "# Fetch current BTC price\n",
    "btc_request = requests.get(btc_url).json()\n",
    "btc_request"
   ]
  },
  {
   "cell_type": "code",
   "execution_count": 56,
   "metadata": {},
   "outputs": [
    {
     "name": "stdout",
     "output_type": "stream",
     "text": [
      "48634.0\n"
     ]
    }
   ],
   "source": [
    "btc_spot = btc_request['data']['1']['quotes']['USD']['price']\n",
    "print(btc_spot)"
   ]
  },
  {
   "cell_type": "code",
   "execution_count": 57,
   "metadata": {},
   "outputs": [
    {
     "data": {
      "text/plain": [
       "{'data': {'1027': {'id': 1027,\n",
       "   'name': 'Ethereum',\n",
       "   'symbol': 'ETH',\n",
       "   'website_slug': 'ethereum',\n",
       "   'rank': 2,\n",
       "   'circulating_supply': 118698062,\n",
       "   'total_supply': 118698062,\n",
       "   'max_supply': 0,\n",
       "   'quotes': {'USD': {'price': 4034.87,\n",
       "     'volume_24h': 21132909654,\n",
       "     'market_cap': 478658101513,\n",
       "     'percentage_change_1h': -0.926280407433799,\n",
       "     'percentage_change_24h': 0.827493782386462,\n",
       "     'percentage_change_7d': -4.84142442749901,\n",
       "     'percent_change_1h': -0.926280407433799,\n",
       "     'percent_change_24h': 0.827493782386462,\n",
       "     'percent_change_7d': -4.84142442749901},\n",
       "    'CAD': {'price': 5135.179049,\n",
       "     'volume_24h': 26895854116.6458,\n",
       "     'market_cap': 609188165795.595,\n",
       "     'percent_change_1h': -0.926280407433799,\n",
       "     'percent_change_24h': 0.827493782386462,\n",
       "     'percent_change_7d': -4.84142442749901}},\n",
       "   'last_updated': 1639247604}},\n",
       " 'metadata': {'timestamp': 1639247604,\n",
       "  'num_cryptocurrencies': 3105,\n",
       "  'error': None}}"
      ]
     },
     "execution_count": 57,
     "metadata": {},
     "output_type": "execute_result"
    }
   ],
   "source": [
    "eth_request = requests.get(eth_url).json()\n",
    "eth_request"
   ]
  },
  {
   "cell_type": "code",
   "execution_count": 58,
   "metadata": {},
   "outputs": [
    {
     "name": "stdout",
     "output_type": "stream",
     "text": [
      "4034.87\n"
     ]
    }
   ],
   "source": [
    "eth_spot = eth_request['data']['1027']['quotes']['USD']['price']\n",
    "print(eth_spot)"
   ]
  },
  {
   "cell_type": "code",
   "execution_count": 59,
   "metadata": {},
   "outputs": [
    {
     "name": "stdout",
     "output_type": "stream",
     "text": [
      "The current value of your 1.2 BTC is $58360.799999999996\n",
      "The current value of your 5.3 ETH is $21384.810999999998\n"
     ]
    }
   ],
   "source": [
    "# Print current crypto wallet balance\n",
    "print(f\"The current value of your {my_btc} BTC is ${my_btc * btc_spot}\")\n",
    "print(f\"The current value of your {my_eth} ETH is ${my_eth * eth_spot}\")\n",
    "crypto_tot = (my_btc * btc_spot) + (my_eth * eth_spot)"
   ]
  },
  {
   "cell_type": "markdown",
   "metadata": {},
   "source": [
    "### Collect Investments Data Using Alpaca: `SPY` (stocks) and `AGG` (bonds)"
   ]
  },
  {
   "cell_type": "code",
   "execution_count": 60,
   "metadata": {},
   "outputs": [],
   "source": [
    "# Set current amount of shares\n",
    "my_agg = 200\n",
    "my_spy = 50\n",
    "monthly_income = 12000\n",
    "\n",
    "shares_data = {\n",
    "    \"shares\": [my_agg, my_spy]\n",
    "}"
   ]
  },
  {
   "cell_type": "code",
   "execution_count": 61,
   "metadata": {},
   "outputs": [],
   "source": [
    "# Set Alpaca API key and secret\n",
    "alpaca_api_key = os.getenv(\"ALPACA_API_KEY\")\n",
    "alpaca_secret_key = os.getenv(\"ALPACA_SECRET_KEY\")\n",
    "\n",
    "# Create the Alpaca API object\n",
    "api = tradeapi.REST(\n",
    "    alpaca_api_key,\n",
    "    alpaca_secret_key,\n",
    "    api_version=\"v2\"\n",
    ")\n"
   ]
  },
  {
   "cell_type": "code",
   "execution_count": 62,
   "metadata": {},
   "outputs": [
    {
     "data": {
      "text/html": [
       "<div>\n",
       "<style scoped>\n",
       "    .dataframe tbody tr th:only-of-type {\n",
       "        vertical-align: middle;\n",
       "    }\n",
       "\n",
       "    .dataframe tbody tr th {\n",
       "        vertical-align: top;\n",
       "    }\n",
       "\n",
       "    .dataframe thead tr th {\n",
       "        text-align: left;\n",
       "    }\n",
       "\n",
       "    .dataframe thead tr:last-of-type th {\n",
       "        text-align: right;\n",
       "    }\n",
       "</style>\n",
       "<table border=\"1\" class=\"dataframe\">\n",
       "  <thead>\n",
       "    <tr>\n",
       "      <th></th>\n",
       "      <th colspan=\"5\" halign=\"left\">AGG</th>\n",
       "      <th colspan=\"5\" halign=\"left\">SPY</th>\n",
       "    </tr>\n",
       "    <tr>\n",
       "      <th></th>\n",
       "      <th>open</th>\n",
       "      <th>high</th>\n",
       "      <th>low</th>\n",
       "      <th>close</th>\n",
       "      <th>volume</th>\n",
       "      <th>open</th>\n",
       "      <th>high</th>\n",
       "      <th>low</th>\n",
       "      <th>close</th>\n",
       "      <th>volume</th>\n",
       "    </tr>\n",
       "    <tr>\n",
       "      <th>time</th>\n",
       "      <th></th>\n",
       "      <th></th>\n",
       "      <th></th>\n",
       "      <th></th>\n",
       "      <th></th>\n",
       "      <th></th>\n",
       "      <th></th>\n",
       "      <th></th>\n",
       "      <th></th>\n",
       "      <th></th>\n",
       "    </tr>\n",
       "  </thead>\n",
       "  <tbody>\n",
       "    <tr>\n",
       "      <th>2017-12-20 00:00:00-05:00</th>\n",
       "      <td>108.75</td>\n",
       "      <td>108.8800</td>\n",
       "      <td>108.7059</td>\n",
       "      <td>108.770</td>\n",
       "      <td>3123756.0</td>\n",
       "      <td>NaN</td>\n",
       "      <td>NaN</td>\n",
       "      <td>NaN</td>\n",
       "      <td>NaN</td>\n",
       "      <td>NaN</td>\n",
       "    </tr>\n",
       "    <tr>\n",
       "      <th>2017-12-21 00:00:00-05:00</th>\n",
       "      <td>108.76</td>\n",
       "      <td>108.8700</td>\n",
       "      <td>108.7300</td>\n",
       "      <td>108.830</td>\n",
       "      <td>2173058.0</td>\n",
       "      <td>267.73</td>\n",
       "      <td>268.3850</td>\n",
       "      <td>267.3000</td>\n",
       "      <td>267.57</td>\n",
       "      <td>34999954.0</td>\n",
       "    </tr>\n",
       "    <tr>\n",
       "      <th>2017-12-22 00:00:00-05:00</th>\n",
       "      <td>108.82</td>\n",
       "      <td>108.8900</td>\n",
       "      <td>108.8100</td>\n",
       "      <td>108.880</td>\n",
       "      <td>2952430.0</td>\n",
       "      <td>267.60</td>\n",
       "      <td>267.6350</td>\n",
       "      <td>266.9000</td>\n",
       "      <td>267.48</td>\n",
       "      <td>36604044.0</td>\n",
       "    </tr>\n",
       "    <tr>\n",
       "      <th>2017-12-26 00:00:00-05:00</th>\n",
       "      <td>108.91</td>\n",
       "      <td>109.0100</td>\n",
       "      <td>108.8700</td>\n",
       "      <td>108.960</td>\n",
       "      <td>1717408.0</td>\n",
       "      <td>267.06</td>\n",
       "      <td>267.3900</td>\n",
       "      <td>266.8850</td>\n",
       "      <td>267.17</td>\n",
       "      <td>24888478.0</td>\n",
       "    </tr>\n",
       "    <tr>\n",
       "      <th>2017-12-27 00:00:00-05:00</th>\n",
       "      <td>109.02</td>\n",
       "      <td>109.3250</td>\n",
       "      <td>109.0200</td>\n",
       "      <td>109.285</td>\n",
       "      <td>1863189.0</td>\n",
       "      <td>267.36</td>\n",
       "      <td>267.7300</td>\n",
       "      <td>267.0100</td>\n",
       "      <td>267.33</td>\n",
       "      <td>32573906.0</td>\n",
       "    </tr>\n",
       "    <tr>\n",
       "      <th>...</th>\n",
       "      <td>...</td>\n",
       "      <td>...</td>\n",
       "      <td>...</td>\n",
       "      <td>...</td>\n",
       "      <td>...</td>\n",
       "      <td>...</td>\n",
       "      <td>...</td>\n",
       "      <td>...</td>\n",
       "      <td>...</td>\n",
       "      <td>...</td>\n",
       "    </tr>\n",
       "    <tr>\n",
       "      <th>2021-12-06 00:00:00-05:00</th>\n",
       "      <td>114.98</td>\n",
       "      <td>115.0391</td>\n",
       "      <td>114.6196</td>\n",
       "      <td>114.660</td>\n",
       "      <td>6364620.0</td>\n",
       "      <td>456.14</td>\n",
       "      <td>460.7900</td>\n",
       "      <td>453.5600</td>\n",
       "      <td>458.78</td>\n",
       "      <td>88930961.0</td>\n",
       "    </tr>\n",
       "    <tr>\n",
       "      <th>2021-12-07 00:00:00-05:00</th>\n",
       "      <td>114.52</td>\n",
       "      <td>114.7100</td>\n",
       "      <td>114.4500</td>\n",
       "      <td>114.475</td>\n",
       "      <td>5783341.0</td>\n",
       "      <td>464.41</td>\n",
       "      <td>468.8800</td>\n",
       "      <td>458.6546</td>\n",
       "      <td>468.24</td>\n",
       "      <td>79124909.0</td>\n",
       "    </tr>\n",
       "    <tr>\n",
       "      <th>2021-12-08 00:00:00-05:00</th>\n",
       "      <td>114.37</td>\n",
       "      <td>114.3700</td>\n",
       "      <td>114.0500</td>\n",
       "      <td>114.170</td>\n",
       "      <td>7416826.0</td>\n",
       "      <td>468.70</td>\n",
       "      <td>470.0000</td>\n",
       "      <td>466.8300</td>\n",
       "      <td>469.54</td>\n",
       "      <td>62917411.0</td>\n",
       "    </tr>\n",
       "    <tr>\n",
       "      <th>2021-12-09 00:00:00-05:00</th>\n",
       "      <td>114.28</td>\n",
       "      <td>114.3860</td>\n",
       "      <td>114.1200</td>\n",
       "      <td>114.200</td>\n",
       "      <td>8223995.0</td>\n",
       "      <td>468.15</td>\n",
       "      <td>469.6291</td>\n",
       "      <td>466.1400</td>\n",
       "      <td>466.34</td>\n",
       "      <td>54963509.0</td>\n",
       "    </tr>\n",
       "    <tr>\n",
       "      <th>2021-12-10 00:00:00-05:00</th>\n",
       "      <td>114.37</td>\n",
       "      <td>114.5100</td>\n",
       "      <td>114.2200</td>\n",
       "      <td>114.240</td>\n",
       "      <td>6263328.0</td>\n",
       "      <td>469.23</td>\n",
       "      <td>470.9000</td>\n",
       "      <td>466.5100</td>\n",
       "      <td>470.72</td>\n",
       "      <td>64958435.0</td>\n",
       "    </tr>\n",
       "  </tbody>\n",
       "</table>\n",
       "<p>1001 rows × 10 columns</p>\n",
       "</div>"
      ],
      "text/plain": [
       "                              AGG                                          \\\n",
       "                             open      high       low    close     volume   \n",
       "time                                                                        \n",
       "2017-12-20 00:00:00-05:00  108.75  108.8800  108.7059  108.770  3123756.0   \n",
       "2017-12-21 00:00:00-05:00  108.76  108.8700  108.7300  108.830  2173058.0   \n",
       "2017-12-22 00:00:00-05:00  108.82  108.8900  108.8100  108.880  2952430.0   \n",
       "2017-12-26 00:00:00-05:00  108.91  109.0100  108.8700  108.960  1717408.0   \n",
       "2017-12-27 00:00:00-05:00  109.02  109.3250  109.0200  109.285  1863189.0   \n",
       "...                           ...       ...       ...      ...        ...   \n",
       "2021-12-06 00:00:00-05:00  114.98  115.0391  114.6196  114.660  6364620.0   \n",
       "2021-12-07 00:00:00-05:00  114.52  114.7100  114.4500  114.475  5783341.0   \n",
       "2021-12-08 00:00:00-05:00  114.37  114.3700  114.0500  114.170  7416826.0   \n",
       "2021-12-09 00:00:00-05:00  114.28  114.3860  114.1200  114.200  8223995.0   \n",
       "2021-12-10 00:00:00-05:00  114.37  114.5100  114.2200  114.240  6263328.0   \n",
       "\n",
       "                              SPY                                          \n",
       "                             open      high       low   close      volume  \n",
       "time                                                                       \n",
       "2017-12-20 00:00:00-05:00     NaN       NaN       NaN     NaN         NaN  \n",
       "2017-12-21 00:00:00-05:00  267.73  268.3850  267.3000  267.57  34999954.0  \n",
       "2017-12-22 00:00:00-05:00  267.60  267.6350  266.9000  267.48  36604044.0  \n",
       "2017-12-26 00:00:00-05:00  267.06  267.3900  266.8850  267.17  24888478.0  \n",
       "2017-12-27 00:00:00-05:00  267.36  267.7300  267.0100  267.33  32573906.0  \n",
       "...                           ...       ...       ...     ...         ...  \n",
       "2021-12-06 00:00:00-05:00  456.14  460.7900  453.5600  458.78  88930961.0  \n",
       "2021-12-07 00:00:00-05:00  464.41  468.8800  458.6546  468.24  79124909.0  \n",
       "2021-12-08 00:00:00-05:00  468.70  470.0000  466.8300  469.54  62917411.0  \n",
       "2021-12-09 00:00:00-05:00  468.15  469.6291  466.1400  466.34  54963509.0  \n",
       "2021-12-10 00:00:00-05:00  469.23  470.9000  466.5100  470.72  64958435.0  \n",
       "\n",
       "[1001 rows x 10 columns]"
      ]
     },
     "execution_count": 62,
     "metadata": {},
     "output_type": "execute_result"
    }
   ],
   "source": [
    "# Format current date as ISO format\n",
    "# YOUR CODE HERE!\n",
    "\n",
    "# Set the tickers\n",
    "tickers = [\"AGG\", \"SPY\"]\n",
    "\n",
    "# Set timeframe to '1D' for Alpaca API\n",
    "timeframe = \"1D\"\n",
    "\n",
    "# Get current closing prices for SPY and AGG\n",
    "# (use a limit=1000 parameter to call the most recent 1000 days of data)\n",
    "df_ticker = api.get_barset(\n",
    "    tickers,\n",
    "    timeframe,\n",
    "    limit = 1000\n",
    ").df\n",
    "\n",
    "# Preview DataFrame\n",
    "df_ticker\n",
    "\n",
    "# YOUR CODE HERE!"
   ]
  },
  {
   "cell_type": "code",
   "execution_count": 63,
   "metadata": {},
   "outputs": [
    {
     "data": {
      "text/html": [
       "<div>\n",
       "<style scoped>\n",
       "    .dataframe tbody tr th:only-of-type {\n",
       "        vertical-align: middle;\n",
       "    }\n",
       "\n",
       "    .dataframe tbody tr th {\n",
       "        vertical-align: top;\n",
       "    }\n",
       "\n",
       "    .dataframe thead th {\n",
       "        text-align: right;\n",
       "    }\n",
       "</style>\n",
       "<table border=\"1\" class=\"dataframe\">\n",
       "  <thead>\n",
       "    <tr style=\"text-align: right;\">\n",
       "      <th></th>\n",
       "      <th>AGG</th>\n",
       "      <th>SPY</th>\n",
       "    </tr>\n",
       "  </thead>\n",
       "  <tbody>\n",
       "    <tr>\n",
       "      <th>2017-12-20</th>\n",
       "      <td>108.770</td>\n",
       "      <td>NaN</td>\n",
       "    </tr>\n",
       "    <tr>\n",
       "      <th>2017-12-21</th>\n",
       "      <td>108.830</td>\n",
       "      <td>267.57</td>\n",
       "    </tr>\n",
       "    <tr>\n",
       "      <th>2017-12-22</th>\n",
       "      <td>108.880</td>\n",
       "      <td>267.48</td>\n",
       "    </tr>\n",
       "    <tr>\n",
       "      <th>2017-12-26</th>\n",
       "      <td>108.960</td>\n",
       "      <td>267.17</td>\n",
       "    </tr>\n",
       "    <tr>\n",
       "      <th>2017-12-27</th>\n",
       "      <td>109.285</td>\n",
       "      <td>267.33</td>\n",
       "    </tr>\n",
       "    <tr>\n",
       "      <th>...</th>\n",
       "      <td>...</td>\n",
       "      <td>...</td>\n",
       "    </tr>\n",
       "    <tr>\n",
       "      <th>2021-12-06</th>\n",
       "      <td>114.660</td>\n",
       "      <td>458.78</td>\n",
       "    </tr>\n",
       "    <tr>\n",
       "      <th>2021-12-07</th>\n",
       "      <td>114.475</td>\n",
       "      <td>468.24</td>\n",
       "    </tr>\n",
       "    <tr>\n",
       "      <th>2021-12-08</th>\n",
       "      <td>114.170</td>\n",
       "      <td>469.54</td>\n",
       "    </tr>\n",
       "    <tr>\n",
       "      <th>2021-12-09</th>\n",
       "      <td>114.200</td>\n",
       "      <td>466.34</td>\n",
       "    </tr>\n",
       "    <tr>\n",
       "      <th>2021-12-10</th>\n",
       "      <td>114.240</td>\n",
       "      <td>470.72</td>\n",
       "    </tr>\n",
       "  </tbody>\n",
       "</table>\n",
       "<p>1001 rows × 2 columns</p>\n",
       "</div>"
      ],
      "text/plain": [
       "                AGG     SPY\n",
       "2017-12-20  108.770     NaN\n",
       "2017-12-21  108.830  267.57\n",
       "2017-12-22  108.880  267.48\n",
       "2017-12-26  108.960  267.17\n",
       "2017-12-27  109.285  267.33\n",
       "...             ...     ...\n",
       "2021-12-06  114.660  458.78\n",
       "2021-12-07  114.475  468.24\n",
       "2021-12-08  114.170  469.54\n",
       "2021-12-09  114.200  466.34\n",
       "2021-12-10  114.240  470.72\n",
       "\n",
       "[1001 rows x 2 columns]"
      ]
     },
     "execution_count": 63,
     "metadata": {},
     "output_type": "execute_result"
    }
   ],
   "source": [
    "# Pick AGG and SPY close prices\n",
    "df_closing_prices = pd.DataFrame()\n",
    "\n",
    "for ticker in tickers:\n",
    "    df_closing_prices[ticker] = df_ticker[ticker][\"close\"]\n",
    "# YOUR CODE HERE!\n",
    "df_closing_prices.index = df_closing_prices.index.date\n",
    "df_closing_prices"
   ]
  },
  {
   "cell_type": "code",
   "execution_count": 64,
   "metadata": {},
   "outputs": [
    {
     "name": "stdout",
     "output_type": "stream",
     "text": [
      "Current AGG closing price: $114.24\n",
      "Current SPY closing price: $470.72\n"
     ]
    }
   ],
   "source": [
    "# Print AGG and SPY close prices\n",
    "agg_recent = df_closing_prices.iloc[-1][0]\n",
    "spy_recent = df_closing_prices.iloc[-1][1]\n",
    "\n",
    "print(f\"Current AGG closing price: ${agg_recent}\")\n",
    "print(f\"Current SPY closing price: ${spy_recent}\")"
   ]
  },
  {
   "cell_type": "code",
   "execution_count": 65,
   "metadata": {},
   "outputs": [
    {
     "name": "stdout",
     "output_type": "stream",
     "text": [
      "The current value of your 50 SPY shares is $23536.00\n",
      "The current value of your 200 AGG shares is $22848.00\n"
     ]
    }
   ],
   "source": [
    "# Compute the current value of shares\n",
    "spy_stocks = 50\n",
    "agg_bonds = 200\n",
    "# YOUR CODE HERE!\n",
    "spy_val = (spy_recent * spy_stocks)\n",
    "agg_val = (agg_recent * agg_bonds)\n",
    "stocks_tot = spy_val + agg_val\n",
    "\n",
    "# Print current value of shares\n",
    "print(f\"The current value of your {spy_stocks} SPY shares is ${(spy_val):0.2f}\")\n",
    "print(f\"The current value of your {agg_bonds} AGG shares is ${(agg_val):0.2f}\")"
   ]
  },
  {
   "cell_type": "markdown",
   "metadata": {},
   "source": [
    "### Savings Health Analysis"
   ]
  },
  {
   "cell_type": "code",
   "execution_count": 66,
   "metadata": {},
   "outputs": [
    {
     "data": {
      "text/html": [
       "<div>\n",
       "<style scoped>\n",
       "    .dataframe tbody tr th:only-of-type {\n",
       "        vertical-align: middle;\n",
       "    }\n",
       "\n",
       "    .dataframe tbody tr th {\n",
       "        vertical-align: top;\n",
       "    }\n",
       "\n",
       "    .dataframe thead th {\n",
       "        text-align: right;\n",
       "    }\n",
       "</style>\n",
       "<table border=\"1\" class=\"dataframe\">\n",
       "  <thead>\n",
       "    <tr style=\"text-align: right;\">\n",
       "      <th></th>\n",
       "      <th>Amount</th>\n",
       "    </tr>\n",
       "  </thead>\n",
       "  <tbody>\n",
       "    <tr>\n",
       "      <th>Crypto</th>\n",
       "      <td>79745.611</td>\n",
       "    </tr>\n",
       "    <tr>\n",
       "      <th>Shares</th>\n",
       "      <td>46384.0</td>\n",
       "    </tr>\n",
       "  </tbody>\n",
       "</table>\n",
       "</div>"
      ],
      "text/plain": [
       "           Amount\n",
       "Crypto  79745.611\n",
       "Shares    46384.0"
      ]
     },
     "metadata": {},
     "output_type": "display_data"
    }
   ],
   "source": [
    "# Set monthly household income\n",
    "\n",
    "# Consolidate financial assets data\n",
    "# Create savings DataFrame\n",
    "df_savings = pd.DataFrame(columns = [\"Amount\"], index = ['Crypto', 'Shares'])\n",
    "df_savings.loc['Crypto'] = pd.Series({'Amount':crypto_tot})\n",
    "df_savings.loc['Shares'] = pd.Series({'Amount':stocks_tot})\n",
    "\n",
    "# Display savings DataFrame\n",
    "display(df_savings)"
   ]
  },
  {
   "cell_type": "code",
   "execution_count": 67,
   "metadata": {},
   "outputs": [
    {
     "data": {
      "text/plain": [
       "126129.61099999999"
      ]
     },
     "execution_count": 67,
     "metadata": {},
     "output_type": "execute_result"
    }
   ],
   "source": [
    "# Sum of total investments\n",
    "total_investment = df_savings['Amount'].sum(axis=0)\n",
    "total_investment"
   ]
  },
  {
   "cell_type": "code",
   "execution_count": 68,
   "metadata": {},
   "outputs": [
    {
     "data": {
      "text/plain": [
       "<AxesSubplot:title={'center':'Portfolio Composition'}, ylabel='Amount'>"
      ]
     },
     "execution_count": 68,
     "metadata": {},
     "output_type": "execute_result"
    },
    {
     "data": {
      "image/png": "[encoded data removed]",
      "text/plain": [
       "<Figure size 432x288 with 1 Axes>"
      ]
     },
     "metadata": {},
     "output_type": "display_data"
    }
   ],
   "source": [
    "# Plot savings pie chart\n",
    "df_savings.plot.pie(y=\"Amount\", title= \"Portfolio Composition\")"
   ]
  },
  {
   "cell_type": "code",
   "execution_count": 69,
   "metadata": {},
   "outputs": [
    {
     "data": {
      "text/plain": [
       "<AxesSubplot:title={'center':'Portfolio Composition'}>"
      ]
     },
     "execution_count": 69,
     "metadata": {},
     "output_type": "execute_result"
    },
    {
     "data": {
      "image/png": "[encoded data removed]",
      "text/plain": [
       "<Figure size 432x288 with 1 Axes>"
      ]
     },
     "metadata": {
      "needs_background": "light"
     },
     "output_type": "display_data"
    }
   ],
   "source": [
    "df_savings.plot.bar(y=\"Amount\", title=\"Portfolio Composition\")"
   ]
  },
  {
   "cell_type": "code",
   "execution_count": 70,
   "metadata": {},
   "outputs": [
    {
     "name": "stdout",
     "output_type": "stream",
     "text": [
      "Oh no, hit the pavement and start makin' that bank....you're broke!\n"
     ]
    }
   ],
   "source": [
    "# Set ideal emergency fund\n",
    "emergency_fund = (monthly_income * 3)\n",
    "\n",
    "if emergency_funds > total_investment:\n",
    "    print(\"Congrats, you have enough if 'ish hits the fan!\")\n",
    "else:\n",
    "    print(\"Oh no, hit the pavement and start makin' that bank....you're broke!\")\n",
    "    \n",
    "# Calculate total amount of savings\n",
    "# YOUR CODE HERE!\n",
    "\n",
    "# Validate saving health\n",
    "# YOUR CODE HERE!"
   ]
  },
  {
   "cell_type": "markdown",
   "metadata": {},
   "source": [
    "## Part 2 - Retirement Planning\n",
    "\n",
    "### Monte Carlo Simulation"
   ]
  },
  {
   "cell_type": "code",
   "execution_count": 71,
   "metadata": {},
   "outputs": [],
   "source": [
    "# Set start and end dates of five years back from today.\n",
    "# Sample results may vary from the solution based on the time frame chosen\n",
    "\n",
    "start_date = pd.Timestamp('2016-05-01', tz='America/New_York').isoformat()\n",
    "end_date = pd.Timestamp('2021-05-01', tz='America/New_York').isoformat()"
   ]
  },
  {
   "cell_type": "code",
   "execution_count": 72,
   "metadata": {},
   "outputs": [
    {
     "data": {
      "text/html": [
       "<div>\n",
       "<style scoped>\n",
       "    .dataframe tbody tr th:only-of-type {\n",
       "        vertical-align: middle;\n",
       "    }\n",
       "\n",
       "    .dataframe tbody tr th {\n",
       "        vertical-align: top;\n",
       "    }\n",
       "\n",
       "    .dataframe thead tr th {\n",
       "        text-align: left;\n",
       "    }\n",
       "\n",
       "    .dataframe thead tr:last-of-type th {\n",
       "        text-align: right;\n",
       "    }\n",
       "</style>\n",
       "<table border=\"1\" class=\"dataframe\">\n",
       "  <thead>\n",
       "    <tr>\n",
       "      <th></th>\n",
       "      <th colspan=\"5\" halign=\"left\">AGG</th>\n",
       "      <th colspan=\"5\" halign=\"left\">SPY</th>\n",
       "    </tr>\n",
       "    <tr>\n",
       "      <th></th>\n",
       "      <th>open</th>\n",
       "      <th>high</th>\n",
       "      <th>low</th>\n",
       "      <th>close</th>\n",
       "      <th>volume</th>\n",
       "      <th>open</th>\n",
       "      <th>high</th>\n",
       "      <th>low</th>\n",
       "      <th>close</th>\n",
       "      <th>volume</th>\n",
       "    </tr>\n",
       "    <tr>\n",
       "      <th>time</th>\n",
       "      <th></th>\n",
       "      <th></th>\n",
       "      <th></th>\n",
       "      <th></th>\n",
       "      <th></th>\n",
       "      <th></th>\n",
       "      <th></th>\n",
       "      <th></th>\n",
       "      <th></th>\n",
       "      <th></th>\n",
       "    </tr>\n",
       "  </thead>\n",
       "  <tbody>\n",
       "    <tr>\n",
       "      <th>2017-05-10 00:00:00-04:00</th>\n",
       "      <td>108.60</td>\n",
       "      <td>108.660</td>\n",
       "      <td>108.4400</td>\n",
       "      <td>108.520</td>\n",
       "      <td>1427511.0</td>\n",
       "      <td>NaN</td>\n",
       "      <td>NaN</td>\n",
       "      <td>NaN</td>\n",
       "      <td>NaN</td>\n",
       "      <td>NaN</td>\n",
       "    </tr>\n",
       "    <tr>\n",
       "      <th>2017-05-11 00:00:00-04:00</th>\n",
       "      <td>108.35</td>\n",
       "      <td>108.540</td>\n",
       "      <td>108.3435</td>\n",
       "      <td>108.515</td>\n",
       "      <td>1773499.0</td>\n",
       "      <td>239.35</td>\n",
       "      <td>239.57</td>\n",
       "      <td>238.13</td>\n",
       "      <td>239.410</td>\n",
       "      <td>45435690.0</td>\n",
       "    </tr>\n",
       "    <tr>\n",
       "      <th>2017-05-12 00:00:00-04:00</th>\n",
       "      <td>108.81</td>\n",
       "      <td>108.940</td>\n",
       "      <td>108.7800</td>\n",
       "      <td>108.920</td>\n",
       "      <td>1136553.0</td>\n",
       "      <td>239.09</td>\n",
       "      <td>239.21</td>\n",
       "      <td>238.67</td>\n",
       "      <td>239.030</td>\n",
       "      <td>35283567.0</td>\n",
       "    </tr>\n",
       "    <tr>\n",
       "      <th>2017-05-15 00:00:00-04:00</th>\n",
       "      <td>108.85</td>\n",
       "      <td>108.940</td>\n",
       "      <td>108.8200</td>\n",
       "      <td>108.890</td>\n",
       "      <td>1620264.0</td>\n",
       "      <td>239.47</td>\n",
       "      <td>240.44</td>\n",
       "      <td>239.45</td>\n",
       "      <td>240.245</td>\n",
       "      <td>42230620.0</td>\n",
       "    </tr>\n",
       "    <tr>\n",
       "      <th>2017-05-16 00:00:00-04:00</th>\n",
       "      <td>108.88</td>\n",
       "      <td>109.101</td>\n",
       "      <td>108.8800</td>\n",
       "      <td>109.000</td>\n",
       "      <td>1394153.0</td>\n",
       "      <td>240.62</td>\n",
       "      <td>240.67</td>\n",
       "      <td>239.63</td>\n",
       "      <td>240.100</td>\n",
       "      <td>37206183.0</td>\n",
       "    </tr>\n",
       "  </tbody>\n",
       "</table>\n",
       "</div>"
      ],
      "text/plain": [
       "                              AGG                                         \\\n",
       "                             open     high       low    close     volume   \n",
       "time                                                                       \n",
       "2017-05-10 00:00:00-04:00  108.60  108.660  108.4400  108.520  1427511.0   \n",
       "2017-05-11 00:00:00-04:00  108.35  108.540  108.3435  108.515  1773499.0   \n",
       "2017-05-12 00:00:00-04:00  108.81  108.940  108.7800  108.920  1136553.0   \n",
       "2017-05-15 00:00:00-04:00  108.85  108.940  108.8200  108.890  1620264.0   \n",
       "2017-05-16 00:00:00-04:00  108.88  109.101  108.8800  109.000  1394153.0   \n",
       "\n",
       "                              SPY                                       \n",
       "                             open    high     low    close      volume  \n",
       "time                                                                    \n",
       "2017-05-10 00:00:00-04:00     NaN     NaN     NaN      NaN         NaN  \n",
       "2017-05-11 00:00:00-04:00  239.35  239.57  238.13  239.410  45435690.0  \n",
       "2017-05-12 00:00:00-04:00  239.09  239.21  238.67  239.030  35283567.0  \n",
       "2017-05-15 00:00:00-04:00  239.47  240.44  239.45  240.245  42230620.0  \n",
       "2017-05-16 00:00:00-04:00  240.62  240.67  239.63  240.100  37206183.0  "
      ]
     },
     "execution_count": 72,
     "metadata": {},
     "output_type": "execute_result"
    }
   ],
   "source": [
    "# Get 5 years' worth of historical data for SPY and AGG\n",
    "# (use a limit=1000 parameter to call the most recent 1000 days of data)\n",
    "# YOUR CODE HERE!\n",
    "# Get 3 year's worth of historical price data for Microsoft and Coca-Cola\n",
    "\n",
    "tickers = [\"SPY\", \"AGG\"]\n",
    "df_stock_data = api.get_barset(\n",
    "    tickers,\n",
    "    timeframe,\n",
    "    start=start_date,\n",
    "    end=end_date,\n",
    "    limit = 1000\n",
    ").df\n",
    "\n",
    "# Display sample data\n",
    "df_stock_data.head()"
   ]
  },
  {
   "cell_type": "code",
   "execution_count": 73,
   "metadata": {},
   "outputs": [],
   "source": [
    "# Configuring a Monte Carlo simulation to forecast 30 years cumulative returns\n",
    "MC_30year = MCSimulation(\n",
    "    portfolio_data = df_stock_data,\n",
    "    weights = [.60,.40],\n",
    "    num_simulation = 500,\n",
    "    num_trading_days = 252*30\n",
    ")"
   ]
  },
  {
   "cell_type": "code",
   "execution_count": 74,
   "metadata": {},
   "outputs": [
    {
     "data": {
      "text/html": [
       "<div>\n",
       "<style scoped>\n",
       "    .dataframe tbody tr th:only-of-type {\n",
       "        vertical-align: middle;\n",
       "    }\n",
       "\n",
       "    .dataframe tbody tr th {\n",
       "        vertical-align: top;\n",
       "    }\n",
       "\n",
       "    .dataframe thead tr th {\n",
       "        text-align: left;\n",
       "    }\n",
       "\n",
       "    .dataframe thead tr:last-of-type th {\n",
       "        text-align: right;\n",
       "    }\n",
       "</style>\n",
       "<table border=\"1\" class=\"dataframe\">\n",
       "  <thead>\n",
       "    <tr>\n",
       "      <th></th>\n",
       "      <th colspan=\"6\" halign=\"left\">AGG</th>\n",
       "      <th colspan=\"6\" halign=\"left\">SPY</th>\n",
       "    </tr>\n",
       "    <tr>\n",
       "      <th></th>\n",
       "      <th>open</th>\n",
       "      <th>high</th>\n",
       "      <th>low</th>\n",
       "      <th>close</th>\n",
       "      <th>volume</th>\n",
       "      <th>daily_return</th>\n",
       "      <th>open</th>\n",
       "      <th>high</th>\n",
       "      <th>low</th>\n",
       "      <th>close</th>\n",
       "      <th>volume</th>\n",
       "      <th>daily_return</th>\n",
       "    </tr>\n",
       "    <tr>\n",
       "      <th>time</th>\n",
       "      <th></th>\n",
       "      <th></th>\n",
       "      <th></th>\n",
       "      <th></th>\n",
       "      <th></th>\n",
       "      <th></th>\n",
       "      <th></th>\n",
       "      <th></th>\n",
       "      <th></th>\n",
       "      <th></th>\n",
       "      <th></th>\n",
       "      <th></th>\n",
       "    </tr>\n",
       "  </thead>\n",
       "  <tbody>\n",
       "    <tr>\n",
       "      <th>2017-05-10 00:00:00-04:00</th>\n",
       "      <td>108.60</td>\n",
       "      <td>108.660</td>\n",
       "      <td>108.4400</td>\n",
       "      <td>108.520</td>\n",
       "      <td>1427511.0</td>\n",
       "      <td>NaN</td>\n",
       "      <td>NaN</td>\n",
       "      <td>NaN</td>\n",
       "      <td>NaN</td>\n",
       "      <td>NaN</td>\n",
       "      <td>NaN</td>\n",
       "      <td>NaN</td>\n",
       "    </tr>\n",
       "    <tr>\n",
       "      <th>2017-05-11 00:00:00-04:00</th>\n",
       "      <td>108.35</td>\n",
       "      <td>108.540</td>\n",
       "      <td>108.3435</td>\n",
       "      <td>108.515</td>\n",
       "      <td>1773499.0</td>\n",
       "      <td>-0.000046</td>\n",
       "      <td>239.35</td>\n",
       "      <td>239.57</td>\n",
       "      <td>238.13</td>\n",
       "      <td>239.410</td>\n",
       "      <td>45435690.0</td>\n",
       "      <td>NaN</td>\n",
       "    </tr>\n",
       "    <tr>\n",
       "      <th>2017-05-12 00:00:00-04:00</th>\n",
       "      <td>108.81</td>\n",
       "      <td>108.940</td>\n",
       "      <td>108.7800</td>\n",
       "      <td>108.920</td>\n",
       "      <td>1136553.0</td>\n",
       "      <td>0.003732</td>\n",
       "      <td>239.09</td>\n",
       "      <td>239.21</td>\n",
       "      <td>238.67</td>\n",
       "      <td>239.030</td>\n",
       "      <td>35283567.0</td>\n",
       "      <td>-0.001587</td>\n",
       "    </tr>\n",
       "    <tr>\n",
       "      <th>2017-05-15 00:00:00-04:00</th>\n",
       "      <td>108.85</td>\n",
       "      <td>108.940</td>\n",
       "      <td>108.8200</td>\n",
       "      <td>108.890</td>\n",
       "      <td>1620264.0</td>\n",
       "      <td>-0.000275</td>\n",
       "      <td>239.47</td>\n",
       "      <td>240.44</td>\n",
       "      <td>239.45</td>\n",
       "      <td>240.245</td>\n",
       "      <td>42230620.0</td>\n",
       "      <td>0.005083</td>\n",
       "    </tr>\n",
       "    <tr>\n",
       "      <th>2017-05-16 00:00:00-04:00</th>\n",
       "      <td>108.88</td>\n",
       "      <td>109.101</td>\n",
       "      <td>108.8800</td>\n",
       "      <td>109.000</td>\n",
       "      <td>1394153.0</td>\n",
       "      <td>0.001010</td>\n",
       "      <td>240.62</td>\n",
       "      <td>240.67</td>\n",
       "      <td>239.63</td>\n",
       "      <td>240.100</td>\n",
       "      <td>37206183.0</td>\n",
       "      <td>-0.000604</td>\n",
       "    </tr>\n",
       "  </tbody>\n",
       "</table>\n",
       "</div>"
      ],
      "text/plain": [
       "                              AGG                                         \\\n",
       "                             open     high       low    close     volume   \n",
       "time                                                                       \n",
       "2017-05-10 00:00:00-04:00  108.60  108.660  108.4400  108.520  1427511.0   \n",
       "2017-05-11 00:00:00-04:00  108.35  108.540  108.3435  108.515  1773499.0   \n",
       "2017-05-12 00:00:00-04:00  108.81  108.940  108.7800  108.920  1136553.0   \n",
       "2017-05-15 00:00:00-04:00  108.85  108.940  108.8200  108.890  1620264.0   \n",
       "2017-05-16 00:00:00-04:00  108.88  109.101  108.8800  109.000  1394153.0   \n",
       "\n",
       "                                           SPY                           \\\n",
       "                          daily_return    open    high     low    close   \n",
       "time                                                                      \n",
       "2017-05-10 00:00:00-04:00          NaN     NaN     NaN     NaN      NaN   \n",
       "2017-05-11 00:00:00-04:00    -0.000046  239.35  239.57  238.13  239.410   \n",
       "2017-05-12 00:00:00-04:00     0.003732  239.09  239.21  238.67  239.030   \n",
       "2017-05-15 00:00:00-04:00    -0.000275  239.47  240.44  239.45  240.245   \n",
       "2017-05-16 00:00:00-04:00     0.001010  240.62  240.67  239.63  240.100   \n",
       "\n",
       "                                                    \n",
       "                               volume daily_return  \n",
       "time                                                \n",
       "2017-05-10 00:00:00-04:00         NaN          NaN  \n",
       "2017-05-11 00:00:00-04:00  45435690.0          NaN  \n",
       "2017-05-12 00:00:00-04:00  35283567.0    -0.001587  \n",
       "2017-05-15 00:00:00-04:00  42230620.0     0.005083  \n",
       "2017-05-16 00:00:00-04:00  37206183.0    -0.000604  "
      ]
     },
     "execution_count": 74,
     "metadata": {},
     "output_type": "execute_result"
    }
   ],
   "source": [
    "# Printing the simulation input data\n",
    "MC_30year.portfolio_data.head()\n",
    "# YOUR CODE HERE!"
   ]
  },
  {
   "cell_type": "code",
   "execution_count": 75,
   "metadata": {},
   "outputs": [
    {
     "name": "stdout",
     "output_type": "stream",
     "text": [
      "Running Monte Carlo simulation number 0.\n",
      "Running Monte Carlo simulation number 10.\n",
      "Running Monte Carlo simulation number 20.\n",
      "Running Monte Carlo simulation number 30.\n",
      "Running Monte Carlo simulation number 40.\n",
      "Running Monte Carlo simulation number 50.\n",
      "Running Monte Carlo simulation number 60.\n",
      "Running Monte Carlo simulation number 70.\n",
      "Running Monte Carlo simulation number 80.\n",
      "Running Monte Carlo simulation number 90.\n",
      "Running Monte Carlo simulation number 100.\n"
     ]
    },
    {
     "name": "stderr",
     "output_type": "stream",
     "text": [
      "C:\\Users\\Taylor\\Fintech\\UTOR-VIRT-FIN-PT-11-2021-U-C\\05-APIs\\Unit 5 Homework\\Starter_Code\\MCForecastTools.py:117: PerformanceWarning: DataFrame is highly fragmented.  This is usually the result of calling `frame.insert` many times, which has poor performance.  Consider joining all columns at once using pd.concat(axis=1) instead.  To get a de-fragmented frame, use `newframe = frame.copy()`\n",
      "  portfolio_cumulative_returns[n] = (1 + sim_df.fillna(0)).cumprod()\n"
     ]
    },
    {
     "name": "stdout",
     "output_type": "stream",
     "text": [
      "Running Monte Carlo simulation number 110.\n",
      "Running Monte Carlo simulation number 120.\n",
      "Running Monte Carlo simulation number 130.\n",
      "Running Monte Carlo simulation number 140.\n",
      "Running Monte Carlo simulation number 150.\n",
      "Running Monte Carlo simulation number 160.\n",
      "Running Monte Carlo simulation number 170.\n",
      "Running Monte Carlo simulation number 180.\n",
      "Running Monte Carlo simulation number 190.\n",
      "Running Monte Carlo simulation number 200.\n",
      "Running Monte Carlo simulation number 210.\n",
      "Running Monte Carlo simulation number 220.\n",
      "Running Monte Carlo simulation number 230.\n",
      "Running Monte Carlo simulation number 240.\n",
      "Running Monte Carlo simulation number 250.\n",
      "Running Monte Carlo simulation number 260.\n",
      "Running Monte Carlo simulation number 270.\n",
      "Running Monte Carlo simulation number 280.\n",
      "Running Monte Carlo simulation number 290.\n",
      "Running Monte Carlo simulation number 300.\n",
      "Running Monte Carlo simulation number 310.\n",
      "Running Monte Carlo simulation number 320.\n",
      "Running Monte Carlo simulation number 330.\n",
      "Running Monte Carlo simulation number 340.\n",
      "Running Monte Carlo simulation number 350.\n",
      "Running Monte Carlo simulation number 360.\n",
      "Running Monte Carlo simulation number 370.\n",
      "Running Monte Carlo simulation number 380.\n",
      "Running Monte Carlo simulation number 390.\n",
      "Running Monte Carlo simulation number 400.\n",
      "Running Monte Carlo simulation number 410.\n",
      "Running Monte Carlo simulation number 420.\n",
      "Running Monte Carlo simulation number 430.\n",
      "Running Monte Carlo simulation number 440.\n",
      "Running Monte Carlo simulation number 450.\n",
      "Running Monte Carlo simulation number 460.\n",
      "Running Monte Carlo simulation number 470.\n",
      "Running Monte Carlo simulation number 480.\n",
      "Running Monte Carlo simulation number 490.\n"
     ]
    },
    {
     "data": {
      "text/html": [
       "<div>\n",
       "<style scoped>\n",
       "    .dataframe tbody tr th:only-of-type {\n",
       "        vertical-align: middle;\n",
       "    }\n",
       "\n",
       "    .dataframe tbody tr th {\n",
       "        vertical-align: top;\n",
       "    }\n",
       "\n",
       "    .dataframe thead th {\n",
       "        text-align: right;\n",
       "    }\n",
       "</style>\n",
       "<table border=\"1\" class=\"dataframe\">\n",
       "  <thead>\n",
       "    <tr style=\"text-align: right;\">\n",
       "      <th></th>\n",
       "      <th>0</th>\n",
       "      <th>1</th>\n",
       "      <th>2</th>\n",
       "      <th>3</th>\n",
       "      <th>4</th>\n",
       "      <th>5</th>\n",
       "      <th>6</th>\n",
       "      <th>7</th>\n",
       "      <th>8</th>\n",
       "      <th>9</th>\n",
       "      <th>...</th>\n",
       "      <th>490</th>\n",
       "      <th>491</th>\n",
       "      <th>492</th>\n",
       "      <th>493</th>\n",
       "      <th>494</th>\n",
       "      <th>495</th>\n",
       "      <th>496</th>\n",
       "      <th>497</th>\n",
       "      <th>498</th>\n",
       "      <th>499</th>\n",
       "    </tr>\n",
       "  </thead>\n",
       "  <tbody>\n",
       "    <tr>\n",
       "      <th>0</th>\n",
       "      <td>1.000000</td>\n",
       "      <td>1.000000</td>\n",
       "      <td>1.000000</td>\n",
       "      <td>1.000000</td>\n",
       "      <td>1.000000</td>\n",
       "      <td>1.000000</td>\n",
       "      <td>1.000000</td>\n",
       "      <td>1.000000</td>\n",
       "      <td>1.000000</td>\n",
       "      <td>1.000000</td>\n",
       "      <td>...</td>\n",
       "      <td>1.000000</td>\n",
       "      <td>1.000000</td>\n",
       "      <td>1.000000</td>\n",
       "      <td>1.000000</td>\n",
       "      <td>1.000000</td>\n",
       "      <td>1.000000</td>\n",
       "      <td>1.000000</td>\n",
       "      <td>1.000000</td>\n",
       "      <td>1.000000</td>\n",
       "      <td>1.000000</td>\n",
       "    </tr>\n",
       "    <tr>\n",
       "      <th>1</th>\n",
       "      <td>1.005864</td>\n",
       "      <td>0.991790</td>\n",
       "      <td>1.002448</td>\n",
       "      <td>0.995899</td>\n",
       "      <td>1.000889</td>\n",
       "      <td>1.000095</td>\n",
       "      <td>0.997868</td>\n",
       "      <td>0.992423</td>\n",
       "      <td>1.014038</td>\n",
       "      <td>1.004840</td>\n",
       "      <td>...</td>\n",
       "      <td>1.003046</td>\n",
       "      <td>1.002996</td>\n",
       "      <td>1.004489</td>\n",
       "      <td>1.000722</td>\n",
       "      <td>1.001943</td>\n",
       "      <td>1.010112</td>\n",
       "      <td>1.002403</td>\n",
       "      <td>0.991295</td>\n",
       "      <td>1.001894</td>\n",
       "      <td>1.004076</td>\n",
       "    </tr>\n",
       "    <tr>\n",
       "      <th>2</th>\n",
       "      <td>1.015148</td>\n",
       "      <td>0.988362</td>\n",
       "      <td>0.998039</td>\n",
       "      <td>0.999004</td>\n",
       "      <td>1.007733</td>\n",
       "      <td>0.996943</td>\n",
       "      <td>0.998954</td>\n",
       "      <td>0.987831</td>\n",
       "      <td>1.010303</td>\n",
       "      <td>1.001068</td>\n",
       "      <td>...</td>\n",
       "      <td>1.003411</td>\n",
       "      <td>1.007341</td>\n",
       "      <td>1.008357</td>\n",
       "      <td>1.005513</td>\n",
       "      <td>0.994329</td>\n",
       "      <td>1.010375</td>\n",
       "      <td>1.001586</td>\n",
       "      <td>0.991649</td>\n",
       "      <td>1.005426</td>\n",
       "      <td>1.008286</td>\n",
       "    </tr>\n",
       "    <tr>\n",
       "      <th>3</th>\n",
       "      <td>1.014893</td>\n",
       "      <td>0.995082</td>\n",
       "      <td>0.998061</td>\n",
       "      <td>1.003214</td>\n",
       "      <td>1.005939</td>\n",
       "      <td>0.996010</td>\n",
       "      <td>1.003219</td>\n",
       "      <td>0.981754</td>\n",
       "      <td>1.010955</td>\n",
       "      <td>0.998243</td>\n",
       "      <td>...</td>\n",
       "      <td>0.997079</td>\n",
       "      <td>1.011610</td>\n",
       "      <td>1.008476</td>\n",
       "      <td>1.004986</td>\n",
       "      <td>0.984049</td>\n",
       "      <td>1.016293</td>\n",
       "      <td>1.017073</td>\n",
       "      <td>0.996793</td>\n",
       "      <td>1.015976</td>\n",
       "      <td>1.006023</td>\n",
       "    </tr>\n",
       "    <tr>\n",
       "      <th>4</th>\n",
       "      <td>1.017686</td>\n",
       "      <td>0.992068</td>\n",
       "      <td>1.010945</td>\n",
       "      <td>1.007834</td>\n",
       "      <td>1.001075</td>\n",
       "      <td>0.990713</td>\n",
       "      <td>0.997368</td>\n",
       "      <td>0.984209</td>\n",
       "      <td>1.014393</td>\n",
       "      <td>0.989646</td>\n",
       "      <td>...</td>\n",
       "      <td>0.991198</td>\n",
       "      <td>1.015293</td>\n",
       "      <td>1.015866</td>\n",
       "      <td>1.020792</td>\n",
       "      <td>0.987630</td>\n",
       "      <td>1.014052</td>\n",
       "      <td>1.019781</td>\n",
       "      <td>1.001075</td>\n",
       "      <td>1.022842</td>\n",
       "      <td>1.007762</td>\n",
       "    </tr>\n",
       "    <tr>\n",
       "      <th>...</th>\n",
       "      <td>...</td>\n",
       "      <td>...</td>\n",
       "      <td>...</td>\n",
       "      <td>...</td>\n",
       "      <td>...</td>\n",
       "      <td>...</td>\n",
       "      <td>...</td>\n",
       "      <td>...</td>\n",
       "      <td>...</td>\n",
       "      <td>...</td>\n",
       "      <td>...</td>\n",
       "      <td>...</td>\n",
       "      <td>...</td>\n",
       "      <td>...</td>\n",
       "      <td>...</td>\n",
       "      <td>...</td>\n",
       "      <td>...</td>\n",
       "      <td>...</td>\n",
       "      <td>...</td>\n",
       "      <td>...</td>\n",
       "      <td>...</td>\n",
       "    </tr>\n",
       "    <tr>\n",
       "      <th>7556</th>\n",
       "      <td>4.997714</td>\n",
       "      <td>6.117170</td>\n",
       "      <td>13.553828</td>\n",
       "      <td>6.249755</td>\n",
       "      <td>7.142026</td>\n",
       "      <td>25.974494</td>\n",
       "      <td>28.498492</td>\n",
       "      <td>13.371645</td>\n",
       "      <td>30.357201</td>\n",
       "      <td>11.088833</td>\n",
       "      <td>...</td>\n",
       "      <td>4.812981</td>\n",
       "      <td>7.088793</td>\n",
       "      <td>4.289068</td>\n",
       "      <td>10.915537</td>\n",
       "      <td>6.675142</td>\n",
       "      <td>9.358980</td>\n",
       "      <td>7.397906</td>\n",
       "      <td>11.184508</td>\n",
       "      <td>1.997747</td>\n",
       "      <td>7.724186</td>\n",
       "    </tr>\n",
       "    <tr>\n",
       "      <th>7557</th>\n",
       "      <td>5.009379</td>\n",
       "      <td>6.215540</td>\n",
       "      <td>13.569734</td>\n",
       "      <td>6.256054</td>\n",
       "      <td>7.174955</td>\n",
       "      <td>26.116810</td>\n",
       "      <td>28.536706</td>\n",
       "      <td>13.464007</td>\n",
       "      <td>30.334662</td>\n",
       "      <td>11.095892</td>\n",
       "      <td>...</td>\n",
       "      <td>4.812352</td>\n",
       "      <td>7.040714</td>\n",
       "      <td>4.324389</td>\n",
       "      <td>10.864059</td>\n",
       "      <td>6.688355</td>\n",
       "      <td>9.230257</td>\n",
       "      <td>7.382808</td>\n",
       "      <td>11.236518</td>\n",
       "      <td>2.003485</td>\n",
       "      <td>7.769125</td>\n",
       "    </tr>\n",
       "    <tr>\n",
       "      <th>7558</th>\n",
       "      <td>4.996749</td>\n",
       "      <td>6.220797</td>\n",
       "      <td>13.550601</td>\n",
       "      <td>6.267739</td>\n",
       "      <td>7.171817</td>\n",
       "      <td>25.864884</td>\n",
       "      <td>28.882729</td>\n",
       "      <td>13.541412</td>\n",
       "      <td>30.419561</td>\n",
       "      <td>11.047820</td>\n",
       "      <td>...</td>\n",
       "      <td>4.806026</td>\n",
       "      <td>7.055552</td>\n",
       "      <td>4.330698</td>\n",
       "      <td>10.834950</td>\n",
       "      <td>6.629611</td>\n",
       "      <td>9.276099</td>\n",
       "      <td>7.439309</td>\n",
       "      <td>11.233841</td>\n",
       "      <td>2.009427</td>\n",
       "      <td>7.755491</td>\n",
       "    </tr>\n",
       "    <tr>\n",
       "      <th>7559</th>\n",
       "      <td>4.995426</td>\n",
       "      <td>6.192071</td>\n",
       "      <td>13.444082</td>\n",
       "      <td>6.281416</td>\n",
       "      <td>7.155527</td>\n",
       "      <td>25.783386</td>\n",
       "      <td>29.007117</td>\n",
       "      <td>13.529824</td>\n",
       "      <td>30.296559</td>\n",
       "      <td>11.139063</td>\n",
       "      <td>...</td>\n",
       "      <td>4.794831</td>\n",
       "      <td>7.042188</td>\n",
       "      <td>4.322418</td>\n",
       "      <td>10.746233</td>\n",
       "      <td>6.622177</td>\n",
       "      <td>9.267606</td>\n",
       "      <td>7.427339</td>\n",
       "      <td>11.200737</td>\n",
       "      <td>1.991189</td>\n",
       "      <td>7.821111</td>\n",
       "    </tr>\n",
       "    <tr>\n",
       "      <th>7560</th>\n",
       "      <td>5.029285</td>\n",
       "      <td>6.155220</td>\n",
       "      <td>13.478053</td>\n",
       "      <td>6.335096</td>\n",
       "      <td>7.155601</td>\n",
       "      <td>25.695507</td>\n",
       "      <td>28.980592</td>\n",
       "      <td>13.488290</td>\n",
       "      <td>30.467491</td>\n",
       "      <td>11.215031</td>\n",
       "      <td>...</td>\n",
       "      <td>4.789153</td>\n",
       "      <td>7.018528</td>\n",
       "      <td>4.342092</td>\n",
       "      <td>10.839125</td>\n",
       "      <td>6.586866</td>\n",
       "      <td>9.244470</td>\n",
       "      <td>7.501515</td>\n",
       "      <td>11.087991</td>\n",
       "      <td>1.977750</td>\n",
       "      <td>7.855126</td>\n",
       "    </tr>\n",
       "  </tbody>\n",
       "</table>\n",
       "<p>7561 rows × 500 columns</p>\n",
       "</div>"
      ],
      "text/plain": [
       "           0         1          2         3         4          5          6    \\\n",
       "0     1.000000  1.000000   1.000000  1.000000  1.000000   1.000000   1.000000   \n",
       "1     1.005864  0.991790   1.002448  0.995899  1.000889   1.000095   0.997868   \n",
       "2     1.015148  0.988362   0.998039  0.999004  1.007733   0.996943   0.998954   \n",
       "3     1.014893  0.995082   0.998061  1.003214  1.005939   0.996010   1.003219   \n",
       "4     1.017686  0.992068   1.010945  1.007834  1.001075   0.990713   0.997368   \n",
       "...        ...       ...        ...       ...       ...        ...        ...   \n",
       "7556  4.997714  6.117170  13.553828  6.249755  7.142026  25.974494  28.498492   \n",
       "7557  5.009379  6.215540  13.569734  6.256054  7.174955  26.116810  28.536706   \n",
       "7558  4.996749  6.220797  13.550601  6.267739  7.171817  25.864884  28.882729   \n",
       "7559  4.995426  6.192071  13.444082  6.281416  7.155527  25.783386  29.007117   \n",
       "7560  5.029285  6.155220  13.478053  6.335096  7.155601  25.695507  28.980592   \n",
       "\n",
       "            7          8          9    ...       490       491       492  \\\n",
       "0      1.000000   1.000000   1.000000  ...  1.000000  1.000000  1.000000   \n",
       "1      0.992423   1.014038   1.004840  ...  1.003046  1.002996  1.004489   \n",
       "2      0.987831   1.010303   1.001068  ...  1.003411  1.007341  1.008357   \n",
       "3      0.981754   1.010955   0.998243  ...  0.997079  1.011610  1.008476   \n",
       "4      0.984209   1.014393   0.989646  ...  0.991198  1.015293  1.015866   \n",
       "...         ...        ...        ...  ...       ...       ...       ...   \n",
       "7556  13.371645  30.357201  11.088833  ...  4.812981  7.088793  4.289068   \n",
       "7557  13.464007  30.334662  11.095892  ...  4.812352  7.040714  4.324389   \n",
       "7558  13.541412  30.419561  11.047820  ...  4.806026  7.055552  4.330698   \n",
       "7559  13.529824  30.296559  11.139063  ...  4.794831  7.042188  4.322418   \n",
       "7560  13.488290  30.467491  11.215031  ...  4.789153  7.018528  4.342092   \n",
       "\n",
       "            493       494       495       496        497       498       499  \n",
       "0      1.000000  1.000000  1.000000  1.000000   1.000000  1.000000  1.000000  \n",
       "1      1.000722  1.001943  1.010112  1.002403   0.991295  1.001894  1.004076  \n",
       "2      1.005513  0.994329  1.010375  1.001586   0.991649  1.005426  1.008286  \n",
       "3      1.004986  0.984049  1.016293  1.017073   0.996793  1.015976  1.006023  \n",
       "4      1.020792  0.987630  1.014052  1.019781   1.001075  1.022842  1.007762  \n",
       "...         ...       ...       ...       ...        ...       ...       ...  \n",
       "7556  10.915537  6.675142  9.358980  7.397906  11.184508  1.997747  7.724186  \n",
       "7557  10.864059  6.688355  9.230257  7.382808  11.236518  2.003485  7.769125  \n",
       "7558  10.834950  6.629611  9.276099  7.439309  11.233841  2.009427  7.755491  \n",
       "7559  10.746233  6.622177  9.267606  7.427339  11.200737  1.991189  7.821111  \n",
       "7560  10.839125  6.586866  9.244470  7.501515  11.087991  1.977750  7.855126  \n",
       "\n",
       "[7561 rows x 500 columns]"
      ]
     },
     "execution_count": 75,
     "metadata": {},
     "output_type": "execute_result"
    }
   ],
   "source": [
    "# Running a Monte Carlo simulation to forecast 30 years cumulative returns\n",
    "np.random.seed(0)\n",
    "MC_30year.calc_cumulative_return()\n",
    "# YOUR CODE HERE!"
   ]
  },
  {
   "cell_type": "code",
   "execution_count": 76,
   "metadata": {},
   "outputs": [
    {
     "data": {
      "image/png": "[encoded data removed]",
      "text/plain": [
       "<Figure size 432x288 with 1 Axes>"
      ]
     },
     "metadata": {
      "needs_background": "light"
     },
     "output_type": "display_data"
    }
   ],
   "source": [
    "# Plot simulation outcomes\n",
    "line_plot = MC_30year.plot_simulation()\n",
    "\n",
    "# YOUR CODE HERE!"
   ]
  },
  {
   "cell_type": "code",
   "execution_count": 77,
   "metadata": {},
   "outputs": [],
   "source": [
    "# Plot probability distribution and confidence intervals\n",
    "# YOUR CODE HERE!"
   ]
  },
  {
   "cell_type": "markdown",
   "metadata": {},
   "source": [
    "### Retirement Analysis"
   ]
  },
  {
   "cell_type": "code",
   "execution_count": 78,
   "metadata": {},
   "outputs": [
    {
     "name": "stdout",
     "output_type": "stream",
     "text": [
      "count           500.000000\n",
      "mean              9.349759\n",
      "std               4.921126\n",
      "min               1.977750\n",
      "25%               6.137834\n",
      "50%               8.330632\n",
      "75%              11.259690\n",
      "max              35.620173\n",
      "95% CI Lower      3.215396\n",
      "95% CI Upper     22.128979\n",
      "Name: 7560, dtype: float64\n"
     ]
    },
    {
     "data": {
      "image/png": "[encoded data removed]",
      "text/plain": [
       "<Figure size 432x288 with 1 Axes>"
      ]
     },
     "metadata": {
      "needs_background": "light"
     },
     "output_type": "display_data"
    }
   ],
   "source": [
    "# Fetch summary statistics from the Monte Carlo simulation results\n",
    "dist_plot = MC_30year.plot_distribution()\n",
    "# Print summary statistics\n",
    "\n",
    "tbl = MC_30year.summarize_cumulative_return()\n",
    "\n",
    "# Print summary statistics\n",
    "print(tbl)\n",
    "\n"
   ]
  },
  {
   "cell_type": "markdown",
   "metadata": {},
   "source": [
    "### Calculate the expected portfolio return at the `95%` lower and upper confidence intervals based on a `$20,000` initial investment."
   ]
  },
  {
   "cell_type": "code",
   "execution_count": 79,
   "metadata": {},
   "outputs": [
    {
     "name": "stdout",
     "output_type": "stream",
     "text": [
      "There is a 95% chance that an initial investment of $20000 in the portfolio over the next 30 years will end within in the range of $64307.92 and $442579.59\n"
     ]
    }
   ],
   "source": [
    "# Set initial investment\n",
    "initial_investment = 20000\n",
    "\n",
    "ci_lower = round(tbl[8]*20000,2)\n",
    "ci_upper = round(tbl[9]*20000,2)\n",
    "\n",
    "print(f\"There is a 95% chance that an initial investment of ${initial_investment} in the portfolio\"\n",
    "      f\" over the next 30 years will end within in the range of\"\n",
    "      f\" ${ci_lower} and ${ci_upper}\")\n",
    "# Use the lower and upper `95%` confidence intervals to calculate the range of the possible outcomes of our $20,000\n",
    "# YOUR CODE HERE!\n",
    "\n"
   ]
  },
  {
   "cell_type": "markdown",
   "metadata": {},
   "source": [
    "### Calculate the expected portfolio return at the `95%` lower and upper confidence intervals based on a `50%` increase in the initial investment."
   ]
  },
  {
   "cell_type": "code",
   "execution_count": 80,
   "metadata": {},
   "outputs": [
    {
     "name": "stdout",
     "output_type": "stream",
     "text": [
      "There is a 95% chance that an initial investment of $30000.0 in the portfolio over the next 30 years will end within in the range of $96461.89 and $663869.38\n"
     ]
    }
   ],
   "source": [
    "# Set initial investment\n",
    "initial_investment_2 = 20000 * 1.5\n",
    "\n",
    "ci_lower = round(tbl[8]*20000*1.5,2)\n",
    "ci_upper = round(tbl[9]*20000*1.5,2)\n",
    "# Use the lower and upper `95%` confidence intervals to calculate the range of the possible outcomes of our $30,000\n",
    "\n",
    "\n",
    "# Print results\n",
    "print(f\"There is a 95% chance that an initial investment of ${initial_investment_2} in the portfolio\"\n",
    "      f\" over the next 30 years will end within in the range of\"\n",
    "      f\" ${ci_lower} and ${ci_upper}\")"
   ]
  },
  {
   "cell_type": "markdown",
   "metadata": {},
   "source": [
    "## Optional Challenge - Early Retirement\n",
    "\n",
    "\n",
    "### Five Years Retirement Option"
   ]
  },
  {
   "cell_type": "code",
   "execution_count": null,
   "metadata": {},
   "outputs": [],
   "source": [
    "# Configuring a Monte Carlo simulation to forecast 5 years cumulative returns\n",
    "\n",
    "# YOUR CODE HERE!"
   ]
  },
  {
   "cell_type": "code",
   "execution_count": null,
   "metadata": {},
   "outputs": [],
   "source": [
    "# Running a Monte Carlo simulation to forecast 5 years cumulative returns\n",
    "# YOUR CODE HERE!"
   ]
  },
  {
   "cell_type": "code",
   "execution_count": null,
   "metadata": {},
   "outputs": [],
   "source": [
    "# Plot simulation outcomes\n",
    "# YOUR CODE HERE!"
   ]
  },
  {
   "cell_type": "code",
   "execution_count": null,
   "metadata": {},
   "outputs": [],
   "source": [
    "# Plot probability distribution and confidence intervals\n",
    "# YOUR CODE HERE!"
   ]
  },
  {
   "cell_type": "code",
   "execution_count": null,
   "metadata": {},
   "outputs": [],
   "source": [
    "# Fetch summary statistics from the Monte Carlo simulation results\n",
    "# YOUR CODE HERE!\n",
    "\n",
    "# Print summary statistics\n",
    "# YOUR CODE HERE!"
   ]
  },
  {
   "cell_type": "code",
   "execution_count": null,
   "metadata": {},
   "outputs": [],
   "source": [
    "# Set initial investment\n",
    "# YOUR CODE HERE!\n",
    "\n",
    "# Use the lower and upper `95%` confidence intervals to calculate the range of the possible outcomes of our $60,000\n",
    "# YOUR CODE HERE!\n",
    "\n",
    "# Print results\n",
    "print(f\"There is a 95% chance that an initial investment of ${initial_investment} in the portfolio\"\n",
    "      f\" over the next 5 years will end within in the range of\"\n",
    "      f\" ${ci_lower_five} and ${ci_upper_five}\")"
   ]
  },
  {
   "cell_type": "markdown",
   "metadata": {},
   "source": [
    "### Ten Years Retirement Option"
   ]
  },
  {
   "cell_type": "code",
   "execution_count": null,
   "metadata": {},
   "outputs": [],
   "source": [
    "# Configuring a Monte Carlo simulation to forecast 10 years cumulative returns\n",
    "# YOUR CODE HERE!"
   ]
  },
  {
   "cell_type": "code",
   "execution_count": null,
   "metadata": {},
   "outputs": [],
   "source": [
    "# Running a Monte Carlo simulation to forecast 10 years cumulative returns\n",
    "# YOUR CODE HERE!"
   ]
  },
  {
   "cell_type": "code",
   "execution_count": null,
   "metadata": {},
   "outputs": [],
   "source": [
    "# Plot simulation outcomes\n",
    "# YOUR CODE HERE!"
   ]
  },
  {
   "cell_type": "code",
   "execution_count": null,
   "metadata": {},
   "outputs": [],
   "source": [
    "# Plot probability distribution and confidence intervals\n",
    "# YOUR CODE HERE!"
   ]
  },
  {
   "cell_type": "code",
   "execution_count": null,
   "metadata": {},
   "outputs": [],
   "source": [
    "# Fetch summary statistics from the Monte Carlo simulation results\n",
    "# YOUR CODE HERE!\n",
    "\n",
    "# Print summary statistics\n",
    "# YOUR CODE HERE!"
   ]
  },
  {
   "cell_type": "code",
   "execution_count": null,
   "metadata": {},
   "outputs": [],
   "source": [
    "# Set initial investment\n",
    "# YOUR CODE HERE!\n",
    "\n",
    "# Use the lower and upper `95%` confidence intervals to calculate the range of the possible outcomes of our $60,000\n",
    "# YOUR CODE HERE!\n",
    "\n",
    "# Print results\n",
    "print(f\"There is a 95% chance that an initial investment of ${initial_investment} in the portfolio\"\n",
    "      f\" over the next 10 years will end within in the range of\"\n",
    "      f\" ${ci_lower_ten} and ${ci_upper_ten}\")"
   ]
  },
  {
   "cell_type": "code",
   "execution_count": null,
   "metadata": {},
   "outputs": [],
   "source": []
  }
 ],
 "metadata": {
  "kernelspec": {
   "display_name": "Python 3 (ipykernel)",
   "language": "python",
   "name": "python3"
  },
  "language_info": {
   "codemirror_mode": {
    "name": "ipython",
    "version": 3
   },
   "file_extension": ".py",
   "mimetype": "text/x-python",
   "name": "python",
   "nbconvert_exporter": "python",
   "pygments_lexer": "ipython3",
   "version": "3.8.8"
  },
  "nteract": {
   "version": "0.28.0"
  }
 },
 "nbformat": 4,
 "nbformat_minor": 4
}
